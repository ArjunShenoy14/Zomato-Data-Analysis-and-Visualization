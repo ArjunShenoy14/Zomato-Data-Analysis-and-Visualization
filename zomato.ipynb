{
  "nbformat": 4,
  "nbformat_minor": 0,
  "metadata": {
    "colab": {
      "provenance": []
    },
    "kernelspec": {
      "name": "python3",
      "display_name": "Python 3"
    },
    "language_info": {
      "name": "python"
    }
  },
  "cells": [
    {
      "cell_type": "code",
      "execution_count": null,
      "metadata": {
        "id": "vuN2-WEKw2Y3"
      },
      "outputs": [],
      "source": [
        "!pip install jupyter_dash"
      ]
    },
    {
      "cell_type": "code",
      "source": [
        "from jupyter_dash import JupyterDash\n",
        "import dash_core_components as dcc\n",
        "import dash_html_components as html\n",
        "import plotly.express as px\n",
        "import pandas as pd\n",
        "\n",
        "\n",
        "df = pd.read_csv('/content/zomato.csv')\n",
        "dfc=pd.read_csv('/content/Country-Code.csv')\n",
        "app = JupyterDash(__name__)"
      ],
      "metadata": {
        "id": "kvOck_CaxDS4"
      },
      "execution_count": 3,
      "outputs": []
    },
    {
      "cell_type": "code",
      "source": [
        "df_merge = pd.merge(df, dfc, how='inner', on = 'Country Code')\n",
        "#display(df_merge.head())\n",
        "dfr=df_merge\n",
        "#dfr[\"Rupees\"]=dfr[\"Average Cost for two\"]*75\n",
        "#display(dfr.head())\n",
        "display(dfr['Currency'].unique())"
      ],
      "metadata": {
        "id": "L5xn61oxk3bp",
        "colab": {
          "base_uri": "https://localhost:8080/",
          "height": 104
        },
        "outputId": "acdcf0f2-88bb-4129-992e-dcf63c1ce34e"
      },
      "execution_count": 4,
      "outputs": [
        {
          "output_type": "display_data",
          "data": {
            "text/plain": [
              "array(['Botswana Pula(P)', 'Brazilian Real(R$)', 'Dollar($)',\n",
              "       'Emirati Diram(AED)', 'Indian Rupees(Rs.)',\n",
              "       'Indonesian Rupiah(IDR)', 'NewZealand($)', 'Pounds(專)',\n",
              "       'Qatari Rial(QR)', 'Rand(R)', 'Sri Lankan Rupee(LKR)',\n",
              "       'Turkish Lira(TL)'], dtype=object)"
            ]
          },
          "metadata": {}
        }
      ]
    },
    {
      "cell_type": "code",
      "source": [
        "#current conversion\n",
        "def toinr(cur,cost):\n",
        "  if cur=='Botswana Pula(P)':\n",
        "    return cost*6.40\n",
        "  elif cur=='Brazilian Real(R$)':\n",
        "    return cost*15.66\n",
        "  elif cur=='Dollar($)':\n",
        "    return cost*81.56\n",
        "  elif cur=='Emirati Diram(AED)':\n",
        "    return cost*22.21\n",
        "  elif cur=='Indian Rupees(Rs.)':\n",
        "    return cost\n",
        "  elif cur=='Indonesian Rupiah(IDR)':\n",
        "    return cost*0.0055\n",
        "  elif cur=='NewZealand($)':\n",
        "    return cost*53.15\n",
        "  elif cur=='Pounds(專)':\n",
        "    return cost*101.13\n",
        "  elif cur=='Qatari Rial(QR)':\n",
        "    return cost*22.39\n",
        "  elif cur=='Rand(R)':\n",
        "    return cost*0.21\n",
        "  elif cur=='Sri Lankan Rupee(LKR)':\n",
        "    return cost*0.22\n",
        "  elif cur=='Turkish Lira(TL)':\n",
        "    return cost*0.23"
      ],
      "metadata": {
        "id": "OAbLKhFIdpZy"
      },
      "execution_count": 5,
      "outputs": []
    },
    {
      "cell_type": "code",
      "source": [
        "dfr.rename(columns = {'Average Cost for two':'AvgCost'}, inplace = True)\n",
        "dfr['Amount_In_Rupees'] = dfr.apply( lambda x: toinr( x.Currency, x.AvgCost ), axis = 1)\n",
        "#df['exchangerate'] = df['USD'] / df['Amount']\n",
        "display(dfr)"
      ],
      "metadata": {
        "id": "_nNO-AGncLV2"
      },
      "execution_count": null,
      "outputs": []
    },
    {
      "cell_type": "code",
      "source": [
        "from dash import Dash, dcc, html, Input, Output"
      ],
      "metadata": {
        "id": "Lf4jeIRF-j6g"
      },
      "execution_count": 7,
      "outputs": []
    },
    {
      "cell_type": "code",
      "source": [
        "from jupyter_dash import JupyterDash\n",
        "from dash import Dash, dcc, html, Input, Output\n",
        " \n",
        "colors = {\n",
        "   'background': '#4FE377',\n",
        "   'fullBG':'D8D8D8',\n",
        "   'zom':'#B22222',\n",
        "   'graph':'A711F1',\n",
        "   'text': '#111111',\n",
        "   'textW':'FFFFFF'\n",
        "}\n",
        "\n",
        "#figures\n",
        "fig1 = px.area(df_merge.groupby(\"Country\")['Aggregate rating'].mean(),y=\"Aggregate rating\",title= 'Aggregate Ratings vs Country')\n",
        "fig2 = px.bar(dfr,x='Currency',y='Amount_In_Rupees',title= 'Rupee vs Other Currencies', text_auto=True)\n",
        "fig3 = px.bar(dfr,x='Cuisines', y='Amount_In_Rupees',title= 'Rupee vs Cuisines', text_auto=True)\n",
        "fig4=px.pie(dfr,names='Has Online delivery',title= 'Online Delivery vs Offline Delivery')\n",
        "fig5=px.area(df_merge.groupby(\"Country\")['Votes'].sum(),y=\"Votes\",title= 'No of Ratings vs Country')\n",
        "d1=dfr[dfr[\"Country\"]==\"India\"]\n",
        "d2=d1[d1['Has Online delivery']=='Yes']\n",
        "d3=d1[d1['Has Online delivery']=='No']\n",
        "fig6=px.bar(d2,x='City', y='Amount_In_Rupees',text_auto=True,title= 'Which part of India spends more on online deliver?')\n",
        "fig7=px.bar(d3,x='City', y='Amount_In_Rupees',text_auto=True,title= 'Which part of India spends more on Dine-in?')\n",
        "fig8 = px.area(d1.groupby(\"City\")['Amount_In_Rupees'].mean(),y=\"Amount_In_Rupees\",title= 'Cost of living')\n",
        "#app = Dash(__name__)\n",
        "app = JupyterDash(__name__)\n",
        "app.layout = html.Div([\n",
        "   html.H1(children=\"Zomato\",\n",
        "           style={\n",
        "           'textAlign': 'center',\n",
        "           'color': colors['textW'],\n",
        "           'backgroundColor': colors['zom']\n",
        "       }),\n",
        "   \n",
        "   dcc.Dropdown(\n",
        "           options=[\n",
        "               {'label': i, 'value': i}for i in dfc['Country']\n",
        "           ],\n",
        "           #value=['BNG', 'HYR'],\n",
        "           placeholder=\"Select a country\",\n",
        "           id=\"my-input\"\n",
        "       ),\n",
        "   html.Br(),\n",
        "   html.Div(dcc.Dropdown(\n",
        "                    id='my-output',\n",
        "                    multi=False,\n",
        "                    clearable=True,\n",
        "                    disabled=False,\n",
        "                    options=[],\n",
        "                    placeholder=\"Select a city\",\n",
        "                ),\n",
        "            ),\n",
        "  html.Br(),\n",
        "  html.Div([\n",
        "      dcc.Graph(id='graph',\n",
        "                figure=fig1,\n",
        "                ),\n",
        "      dcc.Graph(id='graph_rating',\n",
        "                figure=fig5\n",
        "                ),\n",
        "      dcc.Graph(id='Pie_delivery',\n",
        "                figure=fig4\n",
        "                ),\n",
        "  ],style={'display': 'flex', 'flex-direction': 'row'}),\n",
        "\n",
        "  html.Div([\n",
        "      dcc.Graph(id='Pie_cost',\n",
        "                figure=fig6\n",
        "                ),\n",
        "      dcc.Graph(id='Pie_costofliving',\n",
        "                figure=fig7\n",
        "                ),\n",
        "            \n",
        "  ],style={'display': 'flex', 'flex-direction': 'row'}),\n",
        "  dcc.Graph(id='livingexpense',\n",
        "                figure=fig8\n",
        "                ),\n",
        "  \n",
        "  html.Div([\n",
        "      dcc.Graph(id='graph2',\n",
        "                figure=fig2,\n",
        "                style={'backgroundColor': 'C94EFA'}\n",
        "                ),\n",
        "  ]),\n",
        "  html.Div([\n",
        "      dcc.Graph(id='graph3',\n",
        "                figure=fig3,\n",
        "                style={'backgroundColor': 'C94EFA'}\n",
        "                )\n",
        "  ])\n",
        " \n",
        "],style={'backgroundColor': colors['fullBG']})\n",
        " \n",
        " \n",
        "@app.callback(\n",
        "   Output('graph','figure'),\n",
        "   Output('graph_rating','figure'),\n",
        "   Output('my-output','options'),\n",
        "   Input(component_id='my-input', component_property='value'),\n",
        "   prevent_initial_call=True\n",
        ")\n",
        "\n",
        "def update(value):\n",
        "  dfb=dfc[dfc[\"Country\"]==value].values[0]\n",
        "  v= dfb[0]\n",
        "  dfd=df[df['Country Code']==v]\n",
        "  dfcity=df_merge[df_merge[\"Country\"]==value]\n",
        "  figure= px.area(dfcity.groupby(\"City\")['Aggregate rating'].mean(),y=\"Aggregate rating\",title= 'Aggregate Ratings vs City')\n",
        "  figure2=px.area(dfcity.groupby(\"City\")['Votes'].sum(),y=\"Votes\",title= 'No of Ratings vs City')\n",
        "  return figure,figure2, [{'label':i,'value':i} for i in dfd['City'].unique()]\n",
        "\n",
        "\n",
        "@app.callback(\n",
        "   Output('graph3','figure'),\n",
        "   \n",
        "   Input(component_id='my-output', component_property='value'),\n",
        "   prevent_initial_call=True\n",
        ")\n",
        "def upd(value):\n",
        "  df_city=dfr[dfr['City']==value]\n",
        "  fig= px.bar(df_city,x='Cuisines', y='Amount_In_Rupees',title= 'Rupee vs Cuisines', text_auto=True)\n",
        "  return fig\n",
        "if __name__ == '__main__':\n",
        "   app.run_server(debug=True)"
      ],
      "metadata": {
        "colab": {
          "base_uri": "https://localhost:8080/",
          "height": 52
        },
        "id": "hx2EjJ5vKb2t",
        "outputId": "5311d0ae-a60a-4075-9988-a71a20dc54b0"
      },
      "execution_count": 8,
      "outputs": [
        {
          "output_type": "stream",
          "name": "stdout",
          "text": [
            "Dash app running on:\n"
          ]
        },
        {
          "output_type": "display_data",
          "data": {
            "text/plain": [
              "<IPython.core.display.Javascript object>"
            ],
            "application/javascript": [
              "(async (port, path, text, element) => {\n",
              "    if (!google.colab.kernel.accessAllowed) {\n",
              "      return;\n",
              "    }\n",
              "    element.appendChild(document.createTextNode(''));\n",
              "    const url = await google.colab.kernel.proxyPort(port);\n",
              "    const anchor = document.createElement('a');\n",
              "    anchor.href = new URL(path, url).toString();\n",
              "    anchor.target = '_blank';\n",
              "    anchor.setAttribute('data-href', url + path);\n",
              "    anchor.textContent = text;\n",
              "    element.appendChild(anchor);\n",
              "  })(8050, \"/\", \"http://127.0.0.1:8050/\", window.element)"
            ]
          },
          "metadata": {}
        }
      ]
    }
  ]
}